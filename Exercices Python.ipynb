{
 "cells": [
  {
   "cell_type": "code",
   "execution_count": null,
   "id": "a314d0ce-0d35-441c-90c1-70da33c6980e",
   "metadata": {},
   "outputs": [],
   "source": [
    "'''\n",
    "Solutions d'Exercices Python - Séance 1\n",
    "Réalisé par Reda Laghbissi, Academie regionale d'éducation et de formation rabat sale kenitra.\n",
    "reda.laghbissi@taalim.ma / 0600004845\n",
    "'''"
   ]
  },
  {
   "cell_type": "code",
   "execution_count": 2,
   "id": "8757a42b-64d3-4bd3-8a65-9c77a67d6e43",
   "metadata": {},
   "outputs": [
    {
     "name": "stdin",
     "output_type": "stream",
     "text": [
      "Entrez le premier nombre :  7\n",
      "Entrez le deuxième nombre :  10\n"
     ]
    },
    {
     "name": "stdout",
     "output_type": "stream",
     "text": [
      "La somme est : 17\n"
     ]
    }
   ],
   "source": [
    "'''1. **Somme de Deux Nombres**\n",
    "Écrivez un programme qui prend deux entiers en entrée et affiche leur somme.\n",
    "'''\n",
    "num1 = int(input(\"Entrez le premier nombre : \"))\n",
    "num2 = int(input(\"Entrez le deuxième nombre : \"))\n",
    "print(\"La somme est :\", num1 + num2)\n"
   ]
  },
  {
   "cell_type": "code",
   "execution_count": 4,
   "id": "f9d2506a-3cd4-4c89-85f1-f5fd9e7259ee",
   "metadata": {},
   "outputs": [
    {
     "name": "stdin",
     "output_type": "stream",
     "text": [
      "Entrez la longueur du rectangle :  5\n",
      "Entrez la largeur du rectangle :  10\n"
     ]
    },
    {
     "name": "stdout",
     "output_type": "stream",
     "text": [
      "L'aire du rectangle est : 50.0\n"
     ]
    }
   ],
   "source": [
    "'''2. **Aire d'un Rectangle**\n",
    "Demandez la longueur et la largeur d'un rectangle et calculez son aire.\n",
    "'''\n",
    "longueur = float(input(\"Entrez la longueur du rectangle : \"))\n",
    "largeur = float(input(\"Entrez la largeur du rectangle : \"))\n",
    "aire = longueur * largeur\n",
    "print(\"L'aire du rectangle est :\", aire)\n"
   ]
  },
  {
   "cell_type": "code",
   "execution_count": 6,
   "id": "fa53f0d7-6a69-45fe-a4e1-0b37dddbcdf0",
   "metadata": {},
   "outputs": [
    {
     "name": "stdin",
     "output_type": "stream",
     "text": [
      "Entrez la température en Celsius :  35\n"
     ]
    },
    {
     "name": "stdout",
     "output_type": "stream",
     "text": [
      "La température en Fahrenheit est : 95.0\n"
     ]
    }
   ],
   "source": [
    "'''3. **Convertir Celsius en Fahrenheit**\n",
    "Écrivez un programme qui prend la température en Celsius et la convertit en Fahrenheit.\n",
    "'''\n",
    "celsius = float(input(\"Entrez la température en Celsius : \"))\n",
    "fahrenheit = (celsius * 9/5) + 32\n",
    "print(f\"La température en Fahrenheit est : {fahrenheit}\")\n"
   ]
  },
  {
   "cell_type": "code",
   "execution_count": 8,
   "id": "c35ca0d2-63ed-4f5f-a9ce-8cbc820c7766",
   "metadata": {},
   "outputs": [
    {
     "name": "stdin",
     "output_type": "stream",
     "text": [
      "Entrez un nombre :  20\n"
     ]
    },
    {
     "name": "stdout",
     "output_type": "stream",
     "text": [
      "20 est pair\n"
     ]
    }
   ],
   "source": [
    "'''4. **Pair ou Impair**\n",
    "Vérifiez si un nombre saisi est pair ou impair.\n",
    "'''\n",
    "nombre = int(input(\"Entrez un nombre : \"))\n",
    "if nombre % 2 == 0:\n",
    "    print(f\"{nombre} est pair\")\n",
    "else:\n",
    "    print(f\"{nombre} est impair\")\n"
   ]
  },
  {
   "cell_type": "code",
   "execution_count": 10,
   "id": "b15051d2-ce92-4831-81ef-4fcb9733c970",
   "metadata": {},
   "outputs": [
    {
     "name": "stdin",
     "output_type": "stream",
     "text": [
      "Entrez le premier nombre :  12\n",
      "Entrez le deuxième nombre :  4\n",
      "Entrez le troisième nombre :  9\n"
     ]
    },
    {
     "name": "stdout",
     "output_type": "stream",
     "text": [
      "Le plus petit nombre est : 4\n"
     ]
    }
   ],
   "source": [
    "'''5. **Plus Petit de Trois Nombres**\n",
    "Prenez trois entiers en entrée et trouvez le plus petit.\n",
    "'''\n",
    "num1 = int(input(\"Entrez le premier nombre : \"))\n",
    "num2 = int(input(\"Entrez le deuxième nombre : \"))\n",
    "num3 = int(input(\"Entrez le troisième nombre : \"))\n",
    "print(\"Le plus petit nombre est :\", min(num1, num2, num3))\n"
   ]
  },
  {
   "cell_type": "code",
   "execution_count": 12,
   "id": "e91e2f87-e096-42f1-9c87-66fe744537f0",
   "metadata": {},
   "outputs": [
    {
     "name": "stdin",
     "output_type": "stream",
     "text": [
      "Entrez un nombre :  5\n"
     ]
    },
    {
     "name": "stdout",
     "output_type": "stream",
     "text": [
      "5 x 1 = 5\n",
      "5 x 2 = 10\n",
      "5 x 3 = 15\n",
      "5 x 4 = 20\n",
      "5 x 5 = 25\n",
      "5 x 6 = 30\n",
      "5 x 7 = 35\n",
      "5 x 8 = 40\n",
      "5 x 9 = 45\n",
      "5 x 10 = 50\n"
     ]
    }
   ],
   "source": [
    "'''6. **Table de Multiplication**\n",
    "Affichez la table de multiplication pour n'importe quel nombre entré par l'utilisateur.\n",
    "'''\n",
    "nombre = int(input(\"Entrez un nombre : \"))\n",
    "for i in range(1, 11):\n",
    "    print(f\"{nombre} x {i} = {nombre * i}\")\n"
   ]
  },
  {
   "cell_type": "code",
   "execution_count": 14,
   "id": "25eef1f5-85a2-46e9-88a4-36752a063024",
   "metadata": {},
   "outputs": [
    {
     "name": "stdin",
     "output_type": "stream",
     "text": [
      "Entrez un nombre :  4\n"
     ]
    },
    {
     "name": "stdout",
     "output_type": "stream",
     "text": [
      "La factorielle est : 24\n"
     ]
    }
   ],
   "source": [
    "'''7. **Factorielle d'un Nombre**\n",
    "Utilisez une boucle `while` pour calculer la factorielle d'un nombre donné.\n",
    "'''\n",
    "nombre = int(input(\"Entrez un nombre : \"))\n",
    "factorielle = 1\n",
    "while nombre > 0:\n",
    "    factorielle *= nombre\n",
    "    nombre -= 1\n",
    "print(\"La factorielle est :\", factorielle)\n"
   ]
  },
  {
   "cell_type": "code",
   "execution_count": 16,
   "id": "4ff99f30-2108-4712-a49e-982378db6d73",
   "metadata": {},
   "outputs": [
    {
     "name": "stdin",
     "output_type": "stream",
     "text": [
      "Entrez un nombre :  5\n"
     ]
    },
    {
     "name": "stdout",
     "output_type": "stream",
     "text": [
      "La somme des nombres naturels jusqu'à 5 est : 15\n"
     ]
    }
   ],
   "source": [
    "'''8. **Somme des Nombres Naturels**\n",
    "Calculez la somme de tous les nombres naturels jusqu'à un nombre donné `n`\n",
    "'''\n",
    "n = int(input(\"Entrez un nombre : \"))\n",
    "somme = sum(range(1, n+1))\n",
    "print(f\"La somme des nombres naturels jusqu'à {n} est :\", somme)\n"
   ]
  },
  {
   "cell_type": "code",
   "execution_count": 18,
   "id": "37cbc28b-f806-4c3e-8498-d714cec99c3d",
   "metadata": {},
   "outputs": [
    {
     "name": "stdin",
     "output_type": "stream",
     "text": [
      "Entrez un nombre :  34\n"
     ]
    },
    {
     "name": "stdout",
     "output_type": "stream",
     "text": [
      "Le nombre de chiffres est : 2\n"
     ]
    }
   ],
   "source": [
    "'''9. **Compter les Chiffres dans un Nombre**\n",
    "Écrivez un programme qui compte combien de chiffres il y a dans un nombre donné.\n",
    "'''\n",
    "nombre = input(\"Entrez un nombre : \")\n",
    "print(\"Le nombre de chiffres est :\", len(nombre))\n"
   ]
  },
  {
   "cell_type": "code",
   "execution_count": 20,
   "id": "f63124d1-c498-402e-8e8f-0288fe714b0e",
   "metadata": {},
   "outputs": [
    {
     "name": "stdin",
     "output_type": "stream",
     "text": [
      "Entrez un nombre :  1234\n"
     ]
    },
    {
     "name": "stdout",
     "output_type": "stream",
     "text": [
      "Le nombre inversé est : 4321\n"
     ]
    }
   ],
   "source": [
    "'''10. **Inverser un Nombre**\n",
    "Écrivez un programme pour inverser les chiffres d'un nombre donné.\n",
    "'''\n",
    "nombre = input(\"Entrez un nombre : \")\n",
    "print(\"Le nombre inversé est :\", nombre[::-1])\n"
   ]
  },
  {
   "cell_type": "code",
   "execution_count": 22,
   "id": "1b0dce3e-c39b-4ab9-9bb3-61ec7afc74a4",
   "metadata": {},
   "outputs": [
    {
     "name": "stdin",
     "output_type": "stream",
     "text": [
      "Entrez un nombre :  12\n"
     ]
    },
    {
     "name": "stdout",
     "output_type": "stream",
     "text": [
      "La somme des chiffres est : 3\n"
     ]
    }
   ],
   "source": [
    "'''11. **Somme des Chiffres**\n",
    "Calculez la somme des chiffres d'un nombre donné.\n",
    "'''\n",
    "nombre = input(\"Entrez un nombre : \")\n",
    "somme = sum(int(chiffre) for chiffre in nombre)\n",
    "print(\"La somme des chiffres est :\", somme)\n"
   ]
  },
  {
   "cell_type": "code",
   "execution_count": 30,
   "id": "d19334c0-1041-41ba-9713-639984af1db4",
   "metadata": {},
   "outputs": [
    {
     "name": "stdin",
     "output_type": "stream",
     "text": [
      "Entrez un nombre :  13\n"
     ]
    },
    {
     "name": "stdout",
     "output_type": "stream",
     "text": [
      "13 est un nombre premier\n"
     ]
    }
   ],
   "source": [
    "'''13. **Vérification de Nombre Premier**\n",
    "Déterminez si un nombre donné est un nombre premier. Un nombre premier est un nombre\n",
    "qui ne peut être divisé que par lui-même et 1 sans reste\n",
    "'''\n",
    "nombre = int(input(\"Entrez un nombre : \"))\n",
    "if nombre > 1:\n",
    "    for i in range(2, int(nombre ** 0.5) + 1):\n",
    "        if nombre % i == 0:\n",
    "            print(f\"{nombre} n'est pas un nombre premier\")\n",
    "            break\n",
    "    else:\n",
    "        print(f\"{nombre} est un nombre premier\")\n",
    "else:\n",
    "    print(f\"{nombre} n'est pas un nombre premier\")\n"
   ]
  },
  {
   "cell_type": "code",
   "execution_count": 32,
   "id": "004ae76d-1b9a-4af6-ba7c-656f2374ba36",
   "metadata": {},
   "outputs": [
    {
     "name": "stdin",
     "output_type": "stream",
     "text": [
      "Entrez la limite :  12\n"
     ]
    },
    {
     "name": "stdout",
     "output_type": "stream",
     "text": [
      "Les nombres impairs sont :\n",
      "1 3 5 7 9 11 "
     ]
    }
   ],
   "source": [
    "'''14. **Afficher les Nombres Impairs dans un Intervalle**\n",
    "Affichez tous les nombres impairs entre `1` et `n`, où `n` est fourni par l'utilisateur.\n",
    "'''\n",
    "n = int(input(\"Entrez la limite : \"))\n",
    "print(\"Les nombres impairs sont :\")\n",
    "for i in range(1, n+1, 2):\n",
    "    print(i, end=\" \")\n"
   ]
  },
  {
   "cell_type": "code",
   "execution_count": 34,
   "id": "f9942a9c-e73d-43b0-9af0-6ab6c4beb6f9",
   "metadata": {},
   "outputs": [
    {
     "name": "stdin",
     "output_type": "stream",
     "text": [
      "Entrez la limite :  12\n"
     ]
    },
    {
     "name": "stdout",
     "output_type": "stream",
     "text": [
      "La somme des nombres pairs jusqu'à 12 est : 42\n"
     ]
    }
   ],
   "source": [
    "'''15. **Somme des Nombres Pairs dans un Intervalle**\n",
    "Calculez la somme de tous les nombres pairs de `1` à `n`\n",
    "'''\n",
    "n = int(input(\"Entrez la limite : \"))\n",
    "somme = sum(i for i in range(1, n+1) if i % 2 == 0)\n",
    "print(f\"La somme des nombres pairs jusqu'à {n} est :\", somme)\n"
   ]
  },
  {
   "cell_type": "code",
   "execution_count": 36,
   "id": "3cb3a8a2-92aa-403b-b673-ef0596615079",
   "metadata": {},
   "outputs": [
    {
     "name": "stdin",
     "output_type": "stream",
     "text": [
      "Entrez un nombre :  3245\n"
     ]
    },
    {
     "name": "stdout",
     "output_type": "stream",
     "text": [
      "Le plus grand chiffre est : 5\n"
     ]
    }
   ],
   "source": [
    "'''16. **Trouver le Plus Grand Chiffre dans un Nombre**\n",
    "Étant donné un nombre, trouvez le plus grand chiffre.\n",
    "'''\n",
    "nombre = input(\"Entrez un nombre : \")\n",
    "print(\"Le plus grand chiffre est :\", max(nombre))\n"
   ]
  },
  {
   "cell_type": "code",
   "execution_count": 44,
   "id": "2ca23c35-8a84-4da7-98e9-9044a2843496",
   "metadata": {},
   "outputs": [
    {
     "name": "stdin",
     "output_type": "stream",
     "text": [
      "Entrez le premier nombre :  25\n",
      "Entrez le deuxième nombre :  50\n"
     ]
    },
    {
     "name": "stdout",
     "output_type": "stream",
     "text": [
      "Le PGCD de 25 et 50 est : 25\n"
     ]
    }
   ],
   "source": [
    "'''17. **PGCD de Deux Nombres**\n",
    "Écrivez un programme pour trouver le plus grand commun diviseur (PGCD) de deux\n",
    "nombres.\n",
    "'''\n",
    "def pgcd(a, b):\n",
    "    while b:\n",
    "        a, b = b, a % b\n",
    "    return a\n",
    "\n",
    "num1 = int(input(\"Entrez le premier nombre : \"))\n",
    "num2 = int(input(\"Entrez le deuxième nombre : \"))\n",
    "print(f\"Le PGCD de {num1} et {num2} est :\", pgcd(num1, num2))\n"
   ]
  },
  {
   "cell_type": "code",
   "execution_count": 46,
   "id": "b44d9f5e-c661-489c-923f-671765c24a54",
   "metadata": {},
   "outputs": [
    {
     "name": "stdin",
     "output_type": "stream",
     "text": [
      "Entrez la base :  3\n",
      "Entrez l'exposant :  3\n"
     ]
    },
    {
     "name": "stdout",
     "output_type": "stream",
     "text": [
      "3 élevé à la puissance 3 est : 27\n"
     ]
    }
   ],
   "source": [
    "'''18. **Puissance d'un Nombre**\n",
    "Calculez la puissance d'un nombre en utilisant une boucle `for` (sans utiliser l'opérateur\n",
    "`**`).\n",
    "'''\n",
    "base = int(input(\"Entrez la base : \"))\n",
    "exposant = int(input(\"Entrez l'exposant : \"))\n",
    "resultat = 1\n",
    "for _ in range(exposant):\n",
    "    resultat *= base\n",
    "print(f\"{base} élevé à la puissance {exposant} est :\", resultat)\n"
   ]
  },
  {
   "cell_type": "code",
   "execution_count": 48,
   "id": "bd132e93-4cb4-493f-bb05-16955c4c936e",
   "metadata": {},
   "outputs": [
    {
     "name": "stdin",
     "output_type": "stream",
     "text": [
      "Entrez une chaîne de caractères :  VOYELLES\n"
     ]
    },
    {
     "name": "stdout",
     "output_type": "stream",
     "text": [
      "Le nombre de voyelles est : 4\n"
     ]
    }
   ],
   "source": [
    "'''19. **Compter les Voyelles dans une Chaîne**\n",
    "Étant donné une chaîne en entrée, comptez combien de voyelles elle contient.\n",
    "'''\n",
    "chaine = input(\"Entrez une chaîne de caractères : \")\n",
    "voyelles = \"aeiouyAEIOUY\"\n",
    "compteur = sum(1 for lettre in chaine if lettre in voyelles)\n",
    "print(\"Le nombre de voyelles est :\", compteur)\n"
   ]
  },
  {
   "cell_type": "code",
   "execution_count": 50,
   "id": "10e36cbc-44ca-4f11-969a-057784aa6f25",
   "metadata": {},
   "outputs": [
    {
     "name": "stdin",
     "output_type": "stream",
     "text": [
      "Entrez un nombre :  7\n"
     ]
    },
    {
     "name": "stdout",
     "output_type": "stream",
     "text": [
      "La somme de la série jusqu'à 7 est : 28\n"
     ]
    }
   ],
   "source": [
    "'''20. **Somme d'une Série**\n",
    "Trouvez la somme de la série : `1 + 2 + 3 + ... + n`.\n",
    "'''\n",
    "n = int(input(\"Entrez un nombre : \"))\n",
    "somme = sum(range(1, n+1))\n",
    "print(f\"La somme de la série jusqu'à {n} est :\", somme)\n"
   ]
  },
  {
   "cell_type": "code",
   "execution_count": 58,
   "id": "96a7601b-61ac-4142-a7ea-93c302b79bb9",
   "metadata": {},
   "outputs": [
    {
     "name": "stdin",
     "output_type": "stream",
     "text": [
      "Entrez un nombre :  23457\n"
     ]
    },
    {
     "name": "stdout",
     "output_type": "stream",
     "text": [
      "La somme des chiffres impairs est : 15\n"
     ]
    }
   ],
   "source": [
    "'''21. **Somme des Chiffres Impairs**\n",
    "Écrivez un programme pour calculer la somme des chiffres impairs d'un nombre.\n",
    "'''\n",
    "nombre = input(\"Entrez un nombre : \")\n",
    "somme = sum(int(chiffre) for chiffre in nombre if int(chiffre) % 2 != 0)\n",
    "print(\"La somme des chiffres impairs est :\", somme)\n"
   ]
  },
  {
   "cell_type": "code",
   "execution_count": 60,
   "id": "b8dcb89f-6a2d-4810-9433-41740d357b27",
   "metadata": {},
   "outputs": [
    {
     "name": "stdin",
     "output_type": "stream",
     "text": [
      "Entrez un nombre :  234\n"
     ]
    },
    {
     "name": "stdout",
     "output_type": "stream",
     "text": [
      "Le produit des chiffres est : 24\n"
     ]
    }
   ],
   "source": [
    "'''22. **Produit des Chiffres d'un Nombre**\n",
    "Écrivez un programme pour calculer le produit des chiffres d'un nombre\n",
    "'''\n",
    "nombre = input(\"Entrez un nombre : \")\n",
    "produit = 1\n",
    "for chiffre in nombre:\n",
    "    produit *= int(chiffre)\n",
    "print(\"Le produit des chiffres est :\", produit)\n"
   ]
  },
  {
   "cell_type": "code",
   "execution_count": null,
   "id": "e2f051e5-f162-49c3-92dc-7221e04f5a5f",
   "metadata": {},
   "outputs": [],
   "source": []
  }
 ],
 "metadata": {
  "kernelspec": {
   "display_name": "Python 3 (ipykernel)",
   "language": "python",
   "name": "python3"
  },
  "language_info": {
   "codemirror_mode": {
    "name": "ipython",
    "version": 3
   },
   "file_extension": ".py",
   "mimetype": "text/x-python",
   "name": "python",
   "nbconvert_exporter": "python",
   "pygments_lexer": "ipython3",
   "version": "3.12.4"
  }
 },
 "nbformat": 4,
 "nbformat_minor": 5
}
